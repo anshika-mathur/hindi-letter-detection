{
  "nbformat": 4,
  "nbformat_minor": 0,
  "metadata": {
    "colab": {
      "provenance": []
    },
    "kernelspec": {
      "name": "python3",
      "display_name": "Python 3"
    },
    "language_info": {
      "name": "python"
    }
  },
  "cells": [
    {
      "cell_type": "code",
      "execution_count": null,
      "metadata": {
        "id": "a9x2LRBe-Vbs"
      },
      "outputs": [],
      "source": [
        "import fitz\n",
        "from PIL import Image\n",
        "\n",
        "def extract_images_from_pdf(pdf_path, block_size=(1, 1), grid_size=(7, 12)):\n",
        "    pdf_document = fitz.open(pdf_path)\n",
        "\n",
        "    for page_number in range(pdf_document.page_count):\n",
        "        page = pdf_document.load_page(page_number)\n",
        "\n",
        "\n",
        "        page_width_px = int(page.rect.width)\n",
        "        page_height_px = int(page.rect.height)\n",
        "\n",
        "\n",
        "        block_width_px = int(page_width_px / grid_size[0])\n",
        "        block_height_px = int(page_height_px / grid_size[1])\n",
        "\n",
        "\n",
        "        for row in range(grid_size[1]):\n",
        "            for col in range(grid_size[0]):\n",
        "\n",
        "                left = col * block_width_px\n",
        "                upper = row * block_height_px\n",
        "                right = left + block_width_px\n",
        "                lower = upper + block_height_px\n",
        "\n",
        "\n",
        "                block_pixmap = page.get_pixmap(matrix=fitz.Matrix(1, 1), clip=(left, upper, right, lower))\n",
        "\n",
        "\n",
        "                block_image = Image.frombytes(\"RGB\", [block_pixmap.width, block_pixmap.height], block_pixmap.samples)\n",
        "\n",
        "\n",
        "                block_image.save(f\"page_{page_number + 1}_block_{row + 1}_{col + 1}.png\")\n",
        "\n",
        "if __name__ == \"__main__\":\n",
        "\n",
        "    input_pdf_path = \"crop.pdf\"\n",
        "\n",
        "    block_size_inches = (1, 1)\n",
        "\n",
        "    grid_dimensions = (7, 12)\n",
        "\n",
        "    extract_images_from_pdf(input_pdf_path, block_size_inches, grid_dimensions)"
      ]
    }
  ]
}