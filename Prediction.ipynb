{
  "nbformat": 4,
  "nbformat_minor": 0,
  "metadata": {
    "colab": {
      "provenance": []
    },
    "kernelspec": {
      "name": "python3",
      "display_name": "Python 3"
    },
    "language_info": {
      "name": "python"
    }
  },
  "cells": [
    {
      "cell_type": "code",
      "execution_count": null,
      "metadata": {
        "id": "a9x2LRBe-Vbs"
      },
      "outputs": [],
      "source": [
        "# impot pakages\n",
        "import numpy as np\n",
        "import pandas as pd\n",
        "import matplotlib.pyplot as plt\n",
        "from sklearn.linear_model import LogisticRegression\n",
        "from sklearn.model_selection import train_test_split\n",
        "from sklearn.metrics import accuracy_score\n",
        "\n",
        "#data creat\n",
        "import os\n",
        "path = \"..\\\\data refining\\\\\"\n",
        "file= os.listdir(path)[:84]\n",
        "print(file)\n",
        "classes={'1':0,'2':1,'3':2,'4':3,'5':4,'6':5,'7':8,'8':7,'9':8,'10':9,'11':10,'12':11,'13':12,'14':13,\n",
        "         '15':14,'16':15,'17':16,'18':17,'19':18,'20':19,'21':20,'22':21,'23':22,'24':23,'25':24,'26':25,'27':26,'28':27,\n",
        "         '29':28,'30':29,'31':30,'32':31,'33':32,'34':33,'35':34,'36':35,'37':36,'38':37,'39':38,'40':39,'41':40,'42':41,\n",
        "         '43':42,'44':43,'45':44,'46':45,'47':46,'48':47,'49':48,'50':49,'51':50,'52':51,'53':52,'54':53,'55':54,'56':55,\n",
        "         '57':56,'58':57,'59':58,'60':59,'61':60,'62':61,'63':62,'64':63,'65':64,'66':65,'67':66,'68':67,'69':68,'70':69,\n",
        "         '71':70,'72':71,'73':72,'74':73,'75':74,'76':75,'77':76,'78':77,'79':78,'80':79,'81':80,'82':81,'83':82,'84':83}\n",
        "\n",
        "import cv2 # to convert into array or resize the img.\n",
        "x=[]\n",
        "y=[]\n",
        "for c in classes:\n",
        "     p=path+c\n",
        "     for img in os.listdir(p):\n",
        "         img= cv2.imread(p+\"/\"+img,0)\n",
        "         x.append(img)\n",
        "         y.append(classes[c])\n",
        "pd.Series(y).value_counts()\n",
        "print(x[0].shape)\n",
        "x = np.array(x)\n",
        "y= np.array(y)\n",
        "print(len(x))\n",
        "plt.imshow(x[100],cmap=\"gray\") # after cheak for the all imp.\n",
        "#print(y[0])\n",
        "#print(x.shape)\n",
        "\n",
        "#prepare the data\n",
        "x_new= x.reshape(len(x),-1)\n",
        "\n",
        "# split the data for train and test\n",
        "xtr,xte,ytr,yte= train_test_split(x_new,y,test_size=.30,random_state=30)\n",
        "mean = np.mean(xtr, axis=0)\n",
        "std = np.std(xtr, axis=0)\n",
        "\n",
        "xtr = (xtr - mean) / std\n",
        "xte = (xte - mean) / std\n",
        "# Logistic Regression Model\n",
        "model = LogisticRegression()\n",
        "model.fit(xtr, ytr)\n",
        "\n",
        "# Prediction and Evaluation\n",
        "y_pred = model.predict(xte)\n",
        "accuracy = accuracy_score(yte, y_pred)\n",
        "\n",
        "print(\"Accuracy:\", accuracy)"
      ]
    }
  ]
}